{
  "nbformat": 4,
  "nbformat_minor": 0,
  "metadata": {
    "colab": {
      "name": "Untitled4.ipynb",
      "provenance": [],
      "include_colab_link": true
    },
    "kernelspec": {
      "name": "python3",
      "display_name": "Python 3"
    }
  },
  "cells": [
    {
      "cell_type": "markdown",
      "metadata": {
        "id": "view-in-github",
        "colab_type": "text"
      },
      "source": [
        "<a href=\"https://colab.research.google.com/github/mark283/cs4high_4080E031/blob/master/%E7%A8%8B%E5%BC%8F.ipynb\" target=\"_parent\"><img src=\"https://colab.research.google.com/assets/colab-badge.svg\" alt=\"Open In Colab\"/></a>"
      ]
    },
    {
      "cell_type": "code",
      "metadata": {
        "id": "CCK7MpzjltDf",
        "colab_type": "code",
        "colab": {
          "base_uri": "https://localhost:8080/",
          "height": 35
        },
        "outputId": "87a3c631-1243-4293-ba91-8298bee16bd5"
      },
      "source": [
        "import time\n",
        "\n",
        "date = time.localtime()\n",
        "year = date[0]\n",
        "month = date[1]\n",
        "day = date[2]\n",
        "\n",
        "day_month=[31,28,31,30,31,30,31,31,30,31,30,31]\n",
        "\n",
        "if year%400==0 or (year%4==0 and year%100!=0):\n",
        "    day_month[1]=29\n",
        "    \n",
        "if month==1:\n",
        "  print(day)\n",
        "else:\n",
        "  print(sum(day_month[:month-1])+day)\n",
        "  "
      ],
      "execution_count": 1,
      "outputs": [
        {
          "output_type": "stream",
          "text": [
            "286\n"
          ],
          "name": "stdout"
        }
      ]
    },
    {
      "cell_type": "code",
      "metadata": {
        "id": "XdOsMYcLl4r6",
        "colab_type": "code",
        "colab": {
          "base_uri": "https://localhost:8080/",
          "height": 52
        },
        "outputId": "28a4bd6e-3b54-4de0-c90f-a892429ecd73"
      },
      "source": [
        "money=int(input(\"請輸入購物金額\"))\n",
        "\n",
        "if(money>=10000):\n",
        "  \n",
        "  if(money>=100000):\n",
        "    print(money*0.8,end=\"元\\n\")#八折\n",
        "  elif(money>=50000):\n",
        "    print(money*0.85,end=\"元\\n\")#八五折\n",
        "  elif(money>=30000):\n",
        "    print(money*0.9,end=\"元\\n\")#九折\n",
        "  else:\n",
        "    print(money*0.95,end=\"元\\n\")#九五折\n",
        "    \n",
        "else:\n",
        "  print(money,end=\"元\\n\")#未打折\n",
        "  "
      ],
      "execution_count": 2,
      "outputs": [
        {
          "output_type": "stream",
          "text": [
            "請輸入購物金額60000\n",
            "51000.0元\n"
          ],
          "name": "stdout"
        }
      ]
    }
  ]
}