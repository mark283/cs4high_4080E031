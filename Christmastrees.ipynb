{
  "nbformat": 4,
  "nbformat_minor": 0,
  "metadata": {
    "colab": {
      "name": "Untitled0.ipynb",
      "provenance": [],
      "include_colab_link": true
    },
    "kernelspec": {
      "name": "python3",
      "display_name": "Python 3"
    }
  },
  "cells": [
    {
      "cell_type": "markdown",
      "metadata": {
        "id": "view-in-github",
        "colab_type": "text"
      },
      "source": [
        "<a href=\"https://colab.research.google.com/github/mark283/cs4high_4080E031/blob/master/Christmastrees.ipynb\" target=\"_parent\"><img src=\"https://colab.research.google.com/assets/colab-badge.svg\" alt=\"Open In Colab\"/></a>"
      ]
    },
    {
      "cell_type": "code",
      "metadata": {
        "id": "nVF6DpihZyrg",
        "colab_type": "code",
        "outputId": "64482546-ed44-4e36-8eae-5e5e5a3d5e62",
        "colab": {
          "base_uri": "https://localhost:8080/",
          "height": 153
        }
      },
      "source": [
        "print(\"Hello, Mydeargreatteacher\")\n",
        "print(\"      *         \")\n",
        "print(\"     ***        \")\n",
        "print(\"    *****       \")\n",
        "print(\"   *******      \")\n",
        "print(\"  *********     \")\n",
        "print(\"      *         \")\n",
        "print(\"      *         \")"
      ],
      "execution_count": 1,
      "outputs": [
        {
          "output_type": "stream",
          "text": [
            "Hello, Mydeargreatteacher\n",
            "      *         \n",
            "     ***        \n",
            "    *****       \n",
            "   *******      \n",
            "  *********     \n",
            "      *         \n",
            "      *         \n"
          ],
          "name": "stdout"
        }
      ]
    },
    {
      "cell_type": "code",
      "metadata": {
        "id": "XEGhI34fXFdn",
        "colab_type": "code",
        "colab": {}
      },
      "source": [
        ""
      ],
      "execution_count": 0,
      "outputs": []
    }
  ]
}