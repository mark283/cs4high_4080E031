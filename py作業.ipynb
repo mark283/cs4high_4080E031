{
  "nbformat": 4,
  "nbformat_minor": 0,
  "metadata": {
    "colab": {
      "name": "Untitled14.ipynb",
      "provenance": [],
      "include_colab_link": true
    },
    "kernelspec": {
      "name": "python3",
      "display_name": "Python 3"
    }
  },
  "cells": [
    {
      "cell_type": "markdown",
      "metadata": {
        "id": "view-in-github",
        "colab_type": "text"
      },
      "source": [
        "<a href=\"https://colab.research.google.com/github/mark283/cs4high_4080E031/blob/master/py%E4%BD%9C%E6%A5%AD.ipynb\" target=\"_parent\"><img src=\"https://colab.research.google.com/assets/colab-badge.svg\" alt=\"Open In Colab\"/></a>"
      ]
    },
    {
      "cell_type": "code",
      "metadata": {
        "id": "Bk-NMC1zn9G6",
        "colab_type": "code",
        "colab": {
          "base_uri": "https://localhost:8080/",
          "height": 85
        },
        "outputId": "d23bfacd-af92-4b52-8456-7648c683c40c"
      },
      "source": [
        "# 10-1\n",
        "print(\"hello!\")\n",
        "print(3*2*(17-2.1))\n",
        "print(\"abc\"+\"def\")\n",
        "word = \"art\"\n",
        "print(word.replace(\"r\", \"n\"))"
      ],
      "execution_count": 1,
      "outputs": [
        {
          "output_type": "stream",
          "text": [
            "hello!\n",
            "89.4\n",
            "abcdef\n",
            "ant\n"
          ],
          "name": "stdout"
        }
      ]
    },
    {
      "cell_type": "code",
      "metadata": {
        "id": "8hCmbm6uoKmd",
        "colab_type": "code",
        "colab": {
          "base_uri": "https://localhost:8080/",
          "height": 51
        },
        "outputId": "ef566d7c-12d6-469d-f437-e21adb592b62"
      },
      "source": [
        "# 10-2\n",
        "a= 1\n",
        "b= 2\n",
        "c = a/b\n",
        "print(a, \"/\", b, \"=\", c) \n",
        "add = str(a)+\"/\"+str(b)+\"=\"+str(c)\n",
        "print(add)"
      ],
      "execution_count": 2,
      "outputs": [
        {
          "output_type": "stream",
          "text": [
            "1 / 2 = 0.5\n",
            "1/2=0.5\n"
          ],
          "name": "stdout"
        }
      ]
    },
    {
      "cell_type": "code",
      "metadata": {
        "id": "SGiN4RoAoTlO",
        "colab_type": "code",
        "colab": {
          "base_uri": "https://localhost:8080/",
          "height": 51
        },
        "outputId": "c18dab1d-6655-4398-8886-3e969b4b5ceb"
      },
      "source": [
        "# 10-3\n",
        "input(\"Where do you live? \")\n",
        "print(\"I live in Boston. \")"
      ],
      "execution_count": 3,
      "outputs": [
        {
          "output_type": "stream",
          "text": [
            "Where do you live? 台南市\n",
            "I live in Boston. \n"
          ],
          "name": "stdout"
        }
      ]
    },
    {
      "cell_type": "code",
      "metadata": {
        "id": "nIHptUAPoaUA",
        "colab_type": "code",
        "colab": {
          "base_uri": "https://localhost:8080/",
          "height": 68
        },
        "outputId": "d35dead2-35a3-493d-fc2c-bd4d52eb7c03"
      },
      "source": [
        "# 10-4\n",
        "user_place = input(\"Where do you live? \")\n",
        "text = user_place.capitalize()+ \"!\"\n",
        "print(text) \n",
        "print(\"I hear it's nice there!\") "
      ],
      "execution_count": 4,
      "outputs": [
        {
          "output_type": "stream",
          "text": [
            "Where do you live? 台南市\n",
            "台南市!\n",
            "I hear it's nice there!\n"
          ],
          "name": "stdout"
        }
      ]
    },
    {
      "cell_type": "code",
      "metadata": {
        "id": "guVr0RCtojyD",
        "colab_type": "code",
        "colab": {
          "base_uri": "https://localhost:8080/",
          "height": 68
        },
        "outputId": "1d46ab1b-384b-492c-eec7-4004d100d535"
      },
      "source": [
        "# 10-5\n",
        "num = int(input (\"Enter a number to find the square of: \"))\n",
        "user_input = input(\"Enter a integer to find the square of: \")\n",
        "num = int(user_input) \n",
        "print(num*num)"
      ],
      "execution_count": 5,
      "outputs": [
        {
          "output_type": "stream",
          "text": [
            "Enter a number to find the square of: 8\n",
            "Enter a integer to find the square of: 4\n",
            "16\n"
          ],
          "name": "stdout"
        }
      ]
    },
    {
      "cell_type": "code",
      "metadata": {
        "id": "Ti4VKyY0o7Hz",
        "colab_type": "code",
        "colab": {
          "base_uri": "https://localhost:8080/",
          "height": 68
        },
        "outputId": "aa2ae5bd-63bd-4178-d6ff-0fec7d931261"
      },
      "source": [
        "# 10-6\n",
        "num1 = float(input(\"Enter a number: \"))\n",
        "num2 = float(input(\"Enter another number: \"))\n",
        "print(num1, \"*\", num2, \"=\", num1*num2)"
      ],
      "execution_count": 6,
      "outputs": [
        {
          "output_type": "stream",
          "text": [
            "Enter a number: 8\n",
            "Enter another number: 4\n",
            "8.0 * 4.0 = 32.0\n"
          ],
          "name": "stdout"
        }
      ]
    },
    {
      "cell_type": "code",
      "metadata": {
        "id": "dlcfo05ypCTE",
        "colab_type": "code",
        "colab": {
          "base_uri": "https://localhost:8080/",
          "height": 68
        },
        "outputId": "3b742b9b-96c9-43c3-a617-b4a12e63175b"
      },
      "source": [
        "# 11-1\n",
        "print(\"Welcome to the Mashup Game!\")\n",
        "name1 = input(\"Enter one full name(FIRST LAST): \")\n",
        "name2 = input(\"Enter another full name(FIRST LAST): \")"
      ],
      "execution_count": 7,
      "outputs": [
        {
          "output_type": "stream",
          "text": [
            "Welcome to the Mashup Game!\n",
            "Enter one full name(FIRST LAST): 林明翰\n",
            "Enter another full name(FIRST LAST): 王小明\n"
          ],
          "name": "stdout"
        }
      ]
    },
    {
      "cell_type": "code",
      "metadata": {
        "id": "hHTdtk4KptKs",
        "colab_type": "code",
        "colab": {
          "base_uri": "https://localhost:8080/",
          "height": 136
        },
        "outputId": "966a04a0-2338-4475-d9d9-e186b76cf4e1"
      },
      "source": [
        "# 11-2\n",
        "print(\"Welcome to the Mashup Game!\")\n",
        "name1 = input(\"Enter one full name(FIRST LAST): \")\n",
        "name2 = input(\"Enter another full name(FIRST LAST): \")\n",
        "\n",
        "space = name1.find(\" \") \n",
        "name1_first = name1[0:space]\n",
        "name1_last = name1[space+1:len(name1)]\n",
        "space = name2.find(\" \")\n",
        "name2_first = name2[0:space]\n",
        "name2_last = name2[space+1:len(name2)]\n",
        "\n",
        "print(name1_first)\n",
        "print(name1_last)\n",
        "print(name2_first)\n",
        "print(name2_last)"
      ],
      "execution_count": 8,
      "outputs": [
        {
          "output_type": "stream",
          "text": [
            "Welcome to the Mashup Game!\n",
            "Enter one full name(FIRST LAST): 林明翰\n",
            "Enter another full name(FIRST LAST): 王小明\n",
            "林明\n",
            "林明翰\n",
            "王小\n",
            "王小明\n"
          ],
          "name": "stdout"
        }
      ]
    },
    {
      "cell_type": "code",
      "metadata": {
        "id": "Nm6NwSbAsFPR",
        "colab_type": "code",
        "colab": {
          "base_uri": "https://localhost:8080/",
          "height": 68
        },
        "outputId": "381f4312-ff0f-4abf-c3c7-f486ae7fc52a"
      },
      "source": [
        "# 11-3\n",
        "print(\"Welcome to the Mashup Game!\")\n",
        "name1 = input(\"Enter one full name(FIRST LAST): \")\n",
        "name2 = input(\"Enter another full name(FIRST LAST): \")\n",
        " \n",
        "space = name1.find(\" \") \n",
        "name1_first = name1[0:space]\n",
        "name1_last = name1[space+1:len(name1)]\n",
        "space = name2.find(\" \")\n",
        "name2_first = name2[0:space]\n",
        "name2_last = name2[space+1:len(name2)]\n",
        "\n",
        "len_name1_first = len(name1_first)\n",
        "len_name2_first = len(name2_first)\n",
        "len_name1_last = len(name1_last)\n",
        "len_name2_last = len(name2_last)\n",
        "index_name1_first = int(len_name1_first/2)\n",
        "index_name2_first = int(len_name2_first/2)\n",
        "index_name1_last = int(len_name1_last/2)\n",
        "index_name2_last = int(len_name2_last/2)\n",
        "lefthalf_name1_first = name1_first[0:index_name1_first]\n",
        "righthalf_name1_first = name1_first[index_name1_first:len_name1_first]\n",
        "\n",
        "lefthalf_name2_first = name2_first[0:index_name2_first]\n",
        "righthalf_name2_first = name2_first[index_name2_first:len_name2_first]\n",
        "lefthalf_name1_last = name1_last[0:index_name1_last]\n",
        "righthalf_name1_last = name1_last[index_name1_last:len_name1_last]\n",
        "lefthalf_name2_last = name2_last[0:index_name2_last]\n",
        "righthalf_name2_last = name2_last[index_name2_last:len_name2_last]"
      ],
      "execution_count": 9,
      "outputs": [
        {
          "output_type": "stream",
          "text": [
            "Welcome to the Mashup Game!\n",
            "Enter one full name(FIRST LAST): 林明翰\n",
            "Enter another full name(FIRST LAST): 王小明\n"
          ],
          "name": "stdout"
        }
      ]
    },
    {
      "cell_type": "code",
      "metadata": {
        "id": "gFBHhonVsXGT",
        "colab_type": "code",
        "colab": {
          "base_uri": "https://localhost:8080/",
          "height": 119
        },
        "outputId": "ef975d9e-b5f8-46ca-9662-bae0c2333d93"
      },
      "source": [
        "# 11-4\n",
        "print(\"Welcome to the Mashup Game!\")\n",
        "name1 = input(\"Enter one full name(FIRST LAST): \")\n",
        "name2 = input(\"Enter another full name(FIRST LAST): \")\n",
        " \n",
        "space = name1.find(\" \") \n",
        "name1_first = name1[0:space]\n",
        "name1_last = name1[space+1:len(name1)]\n",
        "space = name2.find(\" \")\n",
        "name2_first = name2[0:space]\n",
        "name2_last = name2[space+1:len(name2)]\n",
        "\n",
        "len_name1_first = len(name1_first)\n",
        "len_name2_first = len(name2_first)\n",
        "len_name1_last = len(name1_last)\n",
        "len_name2_last = len(name2_last)\n",
        "index_name1_first = int(len_name1_first/2)\n",
        "index_name2_first = int(len_name2_first/2)\n",
        "index_name1_last = int(len_name1_last/2)\n",
        "index_name2_last = int(len_name2_last/2)\n",
        "lefthalf_name1_first = name1_first[0:index_name1_first]\n",
        "righthalf_name1_first = name1_first[index_name1_first:len_name1_first]\n",
        "\n",
        "lefthalf_name2_first = name2_first[0:index_name2_first]\n",
        "righthalf_name2_first = name2_first[index_name2_first:len_name2_first]\n",
        "lefthalf_name1_last = name1_last[0:index_name1_last]\n",
        "righthalf_name1_last = name1_last[index_name1_last:len_name1_last]\n",
        "lefthalf_name2_last = name2_last[0:index_name2_last]\n",
        "righthalf_name2_last = name2_last[index_name2_last:len_name2_last]\n",
        "\n",
        "\n",
        "newname1_first = lefthalf_name1_first.capitalize()+ \\\n",
        "righthalf_name2_first.lower()\n",
        "newname1_last = lefthalf_name1_last.capitalize()+ \\\n",
        "righthalf_name2_last.lower()\n",
        "newname2_first = lefthalf_name2_first.capitalize()+ \\\n",
        "righthalf_name1_first.lower()\n",
        "newname2_last = lefthalf_name2_last.capitalize()+ \\\n",
        "righthalf_name1_last.lower()\n",
        "print(\"All done! Here are two possibilities, pick the one you like best!\")\n",
        "print(newname1_first, newname1_last)\n",
        "print(newname2_first, newname2_last)"
      ],
      "execution_count": 10,
      "outputs": [
        {
          "output_type": "stream",
          "text": [
            "Welcome to the Mashup Game!\n",
            "Enter one full name(FIRST LAST): 林明翰\n",
            "Enter another full name(FIRST LAST): 王小明\n",
            "All done! Here are two possibilities, pick the one you like best!\n",
            "林小 林小明\n",
            "王明 王明翰\n"
          ],
          "name": "stdout"
        }
      ]
    },
    {
      "cell_type": "code",
      "metadata": {
        "id": "uHqdAtm5siYm",
        "colab_type": "code",
        "colab": {
          "base_uri": "https://localhost:8080/",
          "height": 68
        },
        "outputId": "68b90e2d-497c-4a21-8622-6b9a5df59693"
      },
      "source": [
        "# 13-1\n",
        "num = int(input(\"Enter a number: \"))\n",
        "if num > 0:\n",
        "    print(\"num is positive\")\n",
        "print(\"finished comparing num to 0\") \n"
      ],
      "execution_count": 12,
      "outputs": [
        {
          "output_type": "stream",
          "text": [
            "Enter a number: 8\n",
            "num is positive\n",
            "finished comparing num to 0\n"
          ],
          "name": "stdout"
        }
      ]
    },
    {
      "cell_type": "code",
      "metadata": {
        "id": "fn5sgxTXsrKp",
        "colab_type": "code",
        "colab": {
          "base_uri": "https://localhost:8080/",
          "height": 68
        },
        "outputId": "08b03022-7aa3-4a84-947c-1f87b0a6d6ec"
      },
      "source": [
        "# 13-2\n",
        "num_a = int(input(\"Pick a number: \"))   \n",
        "if num_a > 0:\n",
        "    print(\"Your number is positive\")   \n",
        "if num_a < 0:\n",
        "    print(\"Your number is negative \") \n",
        "if num_a == 0: \n",
        "    print(\"Your number is zero\")\n",
        "print(\"Finished!\")\n"
      ],
      "execution_count": 13,
      "outputs": [
        {
          "output_type": "stream",
          "text": [
            "Pick a number: 8\n",
            "Your number is positive\n",
            "Finished!\n"
          ],
          "name": "stdout"
        }
      ]
    },
    {
      "cell_type": "code",
      "metadata": {
        "id": "Wj9rcnh3syoL",
        "colab_type": "code",
        "colab": {
          "base_uri": "https://localhost:8080/",
          "height": 68
        },
        "outputId": "61dbbf84-cc8d-45d5-d4df-4c9badea5301"
      },
      "source": [
        "# 13-3非巢狀條件式\n",
        "num_a = int(input(\"Number? \"))\n",
        "num_b = int(input(\"Number? \"))\n",
        "if num_a < 0:\n",
        "   print(\"num_a is negative\") \n",
        "if num_b < 0:\n",
        "    print(\"num_b is negative\")\n",
        "print(\"Finished\")\n"
      ],
      "execution_count": 14,
      "outputs": [
        {
          "output_type": "stream",
          "text": [
            "Number? 8\n",
            "Number? 9\n",
            "Finished\n"
          ],
          "name": "stdout"
        }
      ]
    },
    {
      "cell_type": "code",
      "metadata": {
        "id": "yMHWZLa2s5wk",
        "colab_type": "code",
        "colab": {
          "base_uri": "https://localhost:8080/",
          "height": 68
        },
        "outputId": "6abaa491-17d6-4db1-c673-d07fe1d15e27"
      },
      "source": [
        "# 13-4\n",
        "price = float(input(\"How much does a chocolate bar cost? \"))\n",
        "hungry = input(\"Are you hungry(yes or no)? \")\n",
        "\n",
        "bars = 0\n",
        "if hungry == \"yes\": \n",
        "    if price < 10:\n",
        "        print(\"Buy all chocolate bars.\")\n",
        "        bar = 100\n",
        "    if 10 <= price <= 50:\n",
        "        print(\"Buy 10 chocolate bars.\")     \n",
        "        bars = 10\n",
        "    if price > 50:\n",
        "        print(\"Buy only one chocolate bar.\")\n",
        "        bars = 1\n",
        "if hungry == \"no\":\n",
        "    print(\"Stick to the shopping list.\")\n",
        "if bars > 10:\n",
        "    print(\"Cashier says: someone's hungry!\")"
      ],
      "execution_count": 16,
      "outputs": [
        {
          "output_type": "stream",
          "text": [
            "How much does a chocolate bar cost? 8\n",
            "Are you hungry(yes or no)? yes\n",
            "Buy all chocolate bars.\n"
          ],
          "name": "stdout"
        }
      ]
    },
    {
      "cell_type": "code",
      "metadata": {
        "id": "2mbujvzmwTco",
        "colab_type": "code",
        "colab": {
          "base_uri": "https://localhost:8080/",
          "height": 51
        },
        "outputId": "5e34ab36-f2d6-44be-f525-33697477df2d"
      },
      "source": [
        "# 13-5\n",
        "num_a = int(input(\"pick a number:\"))\n",
        "num_b = int(input(\"pick a number:\"))\n",
        "if num_a < 0 and num_b < 0: \n",
        "    print(\"both negative\")"
      ],
      "execution_count": 17,
      "outputs": [
        {
          "output_type": "stream",
          "text": [
            "pick a number:8\n",
            "pick a number:4\n"
          ],
          "name": "stdout"
        }
      ]
    },
    {
      "cell_type": "code",
      "metadata": {
        "id": "Adi5TQbXwXvO",
        "colab_type": "code",
        "colab": {
          "base_uri": "https://localhost:8080/",
          "height": 51
        },
        "outputId": "0bf63ed0-9ec4-4a63-a3b8-98e04557e980"
      },
      "source": [
        "# 14-1\n",
        "Num=int(input(\"please pick a number: \"))\n",
        "if Num%2==0:\n",
        "    print(\"Even Number\")\n",
        "else:\n",
        "    print(\"Odd Number\")"
      ],
      "execution_count": 18,
      "outputs": [
        {
          "output_type": "stream",
          "text": [
            "please pick a number: 8\n",
            "Even Number\n"
          ],
          "name": "stdout"
        }
      ]
    },
    {
      "cell_type": "code",
      "metadata": {
        "id": "bYHvDsHQzTrP",
        "colab_type": "code",
        "colab": {
          "base_uri": "https://localhost:8080/",
          "height": 51
        },
        "outputId": "8c96b15e-d6a3-45f8-be6e-8224384b1acc"
      },
      "source": [
        "# 14-2\n",
        "num = int(input(\"Enter a number: \"))\n",
        "if num > 0:\n",
        "    print(\"num is positive\")\n",
        "elif num < 0:\n",
        "    print(\"num is negative\")\n",
        "else:\n",
        "    print(\"num is zero\")"
      ],
      "execution_count": 19,
      "outputs": [
        {
          "output_type": "stream",
          "text": [
            "Enter a number: 8\n",
            "num is positive\n"
          ],
          "name": "stdout"
        }
      ]
    },
    {
      "cell_type": "code",
      "metadata": {
        "id": "Na4xz5U9zaO5",
        "colab_type": "code",
        "colab": {
          "base_uri": "https://localhost:8080/",
          "height": 85
        },
        "outputId": "5cc4e2cb-d75a-4cba-ab22-39c6e5ede022"
      },
      "source": [
        "# 14-3\n",
        "num_a = int(input(\"pick a number: \"))\n",
        "num_b = int(input(\"pick another number: \"))\n",
        "lucky_num = 7\n",
        "if num_a==num_b:\n",
        "    print(\"You enter the same number\")\n",
        "else:\n",
        "    if num_a > 0 and num_b > 0:\n",
        "        print(\"both numbers are positive\")\n",
        "    elif num_a < 0 and num_b < 0:\n",
        "        print(\"both numbers are negative\")\n",
        "    else:\n",
        "        print(\"numbers have opposite sign\")\n",
        "if num_a == lucky_num or num_b == lucky_num:\n",
        "    print(\"you also guessed my lucky number!\")\n",
        "else:\n",
        "    print(\"I have a secret number in mind...\")"
      ],
      "execution_count": 20,
      "outputs": [
        {
          "output_type": "stream",
          "text": [
            "pick a number: 8\n",
            "pick another number: 4\n",
            "both numbers are positive\n",
            "I have a secret number in mind...\n"
          ],
          "name": "stdout"
        }
      ]
    },
    {
      "cell_type": "code",
      "metadata": {
        "id": "uusXrSZezuGV",
        "colab_type": "code",
        "colab": {
          "base_uri": "https://localhost:8080/",
          "height": 85
        },
        "outputId": "98ec1e24-33a2-483f-b7d0-bd38fdf52143"
      },
      "source": [
        "# 14-4\n",
        "num_a = int(input(\"pick a number: \"))\n",
        "num_b = int(input(\"pick another number: \"))\n",
        "lucky_num = 7\n",
        "if num_a == num_b:\n",
        "    print(\"You enter the same number\")\n",
        "elif num_a > 0 and num_b > 0:\n",
        "    print(\"both numbers are positive\")\n",
        "elif num_a < 0 and num_b < 0:\n",
        "    print(\"both numbers are negative\")\n",
        "else:\n",
        "    print(\"numbers have opposite sign\")\n",
        "if num_a == lucky_num or num_b == lucky_num:\n",
        "    print(\"you also guessed my lucky number!\")\n",
        "else:\n",
        "    print(\"I have a secret number in mind...\")"
      ],
      "execution_count": 21,
      "outputs": [
        {
          "output_type": "stream",
          "text": [
            "pick a number: 8\n",
            "pick another number: 4\n",
            "both numbers are positive\n",
            "I have a secret number in mind...\n"
          ],
          "name": "stdout"
        }
      ]
    },
    {
      "cell_type": "code",
      "metadata": {
        "id": "JZ7fFhp70O1G",
        "colab_type": "code",
        "colab": {
          "base_uri": "https://localhost:8080/",
          "height": 85
        },
        "outputId": "806bd2cf-415a-4250-cd8b-79ef6af98290"
      },
      "source": [
        "# 14-5\n",
        "greeting = input(\"Say hi in English or Spanish! \")\n",
        "greet_en =(\"hi\", \"Hi\", \"hello\", \"Hello\")\n",
        "greet_sp =(\"hola\", \"Hola\")\n",
        "if greeting not in greet_en and greeting not in greet_sp:\n",
        "    print(\"I don't understand your greeting.\")\n",
        "elif greeting in greet_en:\n",
        "  num = int(input(\"Enter 1 or 2: \"))\n",
        "  print(\"You speak English!\")\n",
        "  if num == 1:\n",
        "      print(\"one\")\n",
        "  elif num == 2:\n",
        "      print(\"two\")\n",
        "elif greeting in greet_sp:\n",
        "    num = int(input(\"Enter 1 or 2: \"))\n",
        "    print(\"You speak Spanish!\")\n",
        "    if num == 1:\n",
        "        print(\"uno\")\n",
        "    elif num == 2:\n",
        "        print(\"dos\")"
      ],
      "execution_count": 22,
      "outputs": [
        {
          "output_type": "stream",
          "text": [
            "Say hi in English or Spanish! hi\n",
            "Enter 1 or 2: 1\n",
            "You speak English!\n",
            "one\n"
          ],
          "name": "stdout"
        }
      ]
    },
    {
      "cell_type": "code",
      "metadata": {
        "id": "4r-OeQdq0Ou9",
        "colab_type": "code",
        "colab": {
          "base_uri": "https://localhost:8080/",
          "height": 102
        },
        "outputId": "346278c5-5164-449e-9927-ef3bb55b8850"
      },
      "source": [
        "# 15-1\n",
        "print(\"You are on a deserted island in a 2D world.\")\n",
        "print(\"Try to survive until rescue arrives!\")\n",
        "print(\"Available commands are in CAPITAL letters.\")\n",
        "print(\"Any other command exits the program\")\n",
        "print(\"First LOOK around...\")"
      ],
      "execution_count": 23,
      "outputs": [
        {
          "output_type": "stream",
          "text": [
            "You are on a deserted island in a 2D world.\n",
            "Try to survive until rescue arrives!\n",
            "Available commands are in CAPITAL letters.\n",
            "Any other command exits the program\n",
            "First LOOK around...\n"
          ],
          "name": "stdout"
        }
      ]
    }
  ]
}