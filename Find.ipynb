{
  "nbformat": 4,
  "nbformat_minor": 0,
  "metadata": {
    "colab": {
      "name": "Untitled12.ipynb",
      "provenance": [],
      "include_colab_link": true
    },
    "kernelspec": {
      "name": "python3",
      "display_name": "Python 3"
    }
  },
  "cells": [
    {
      "cell_type": "markdown",
      "metadata": {
        "id": "view-in-github",
        "colab_type": "text"
      },
      "source": [
        "<a href=\"https://colab.research.google.com/github/mark283/cs4high_4080E031/blob/master/Find.ipynb\" target=\"_parent\"><img src=\"https://colab.research.google.com/assets/colab-badge.svg\" alt=\"Open In Colab\"/></a>"
      ]
    },
    {
      "cell_type": "code",
      "metadata": {
        "id": "JxU27XaVsyDh",
        "colab_type": "code",
        "colab": {
          "base_uri": "https://localhost:8080/",
          "height": 52
        },
        "outputId": "f2b87144-eed1-4d0d-c007-efd7a7927f8c"
      },
      "source": [
        "s = input('請輸入字串')\n",
        "\n",
        "p = s.split(',')\n",
        "print(int(p[0]) + int(p[len(p) - 1]))"
      ],
      "execution_count": 1,
      "outputs": [
        {
          "output_type": "stream",
          "text": [
            "請輸入字串100,100\n",
            "200\n"
          ],
          "name": "stdout"
        }
      ]
    },
    {
      "cell_type": "code",
      "metadata": {
        "id": "BOrX213os5HJ",
        "colab_type": "code",
        "colab": {
          "base_uri": "https://localhost:8080/",
          "height": 69
        },
        "outputId": "dc5db1e2-889a-4db9-da02-76b53450a10a"
      },
      "source": [
        "str1 = \"this is string example....wow!!!\"\n",
        "str2 = \"exam\"\n",
        "\n",
        "print(str1.find(str2))\n",
        "print(str1.find(str2, 10))\n",
        "print(str1.find(str2, 40))"
      ],
      "execution_count": 2,
      "outputs": [
        {
          "output_type": "stream",
          "text": [
            "15\n",
            "15\n",
            "-1\n"
          ],
          "name": "stdout"
        }
      ]
    }
  ]
}